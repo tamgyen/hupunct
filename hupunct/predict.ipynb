{
 "cells": [
  {
   "cell_type": "code",
   "execution_count": 1,
   "metadata": {
    "collapsed": true
   },
   "outputs": [
    {
     "name": "stderr",
     "output_type": "stream",
     "text": [
      "C:\\KBData\\01_PROJECT\\00_GIT\\ELTE\\ELTE_AI\\final_project\\03_preprocess\\functions.py:28: FutureWarning: load_metric is deprecated and will be removed in the next major version of datasets. Use 'evaluate.load' instead, from the new library 🤗 Evaluate: https://huggingface.co/docs/evaluate\n",
      "  metric = load_metric(\"seqeval\")\n"
     ]
    }
   ],
   "source": [
    "from transformers import pipeline\n",
    "from functions import label_names, label2id, id2label"
   ]
  },
  {
   "cell_type": "code",
   "execution_count": 2,
   "outputs": [
    {
     "data": {
      "text/plain": "['O',\n 'B-COMMA',\n 'B-DOT',\n 'B-EXCLAM',\n 'B-QUES',\n 'B-HYPHEN',\n 'B-COLON',\n 'B-UPPER',\n 'B-UPCOMMA',\n 'B-UPDOT',\n 'B-UPEXCLAM',\n 'B-UPQUES',\n 'B-UPHYPHEN',\n 'B-UPCOLON']"
     },
     "execution_count": 2,
     "metadata": {},
     "output_type": "execute_result"
    }
   ],
   "source": [
    "label_names"
   ],
   "metadata": {
    "collapsed": false
   }
  },
  {
   "cell_type": "code",
   "execution_count": 11,
   "outputs": [],
   "source": [
    "label_to_char = {\n",
    "    'COMMA': ',',\n",
    "    'DOT': '.',\n",
    "    'EXCLAM': '!',\n",
    "    'QUES': '?',\n",
    "    'HYPHEN': '-',\n",
    "    'COLON': ':',\n",
    "    #'QUOTE': '\"',\n",
    "    'UPCOMMA': ',',\n",
    "    'UPDOT': '.',\n",
    "    'UPEXCLAM': '!',\n",
    "    'UPQUES': '?',\n",
    "    'UPHYPHEN': '-',\n",
    "    'UPCOLON': ':',\n",
    "    #'UPQUOTE': '\"',\n",
    "}"
   ],
   "metadata": {
    "collapsed": false
   }
  },
  {
   "cell_type": "code",
   "execution_count": null,
   "outputs": [],
   "source": [
    "def preds_to_string(preds: list[dict]):\n",
    "\n",
    "    pred_str = []\n",
    "\n",
    "    for i, entity in enumerate(preds[:-1]):\n",
    "        next_entity = preds[i+1]\n",
    "        if '##' in next_entity.get('word'):\n",
    "            word = entity.get('word') + next_entity.get('word').replace('##', '')\n",
    "        else:\n",
    "            word = entity.get('word')\n",
    "\n",
    "        if 'UP' in entity.get('entity_group'):\n",
    "            word = word.capitalize()\n",
    "\n",
    "        if '##' not in word:\n",
    "            pred_str.append(word)\n",
    "\n",
    "            if entity.get('entity_group') in label_to_char.keys():\n",
    "                pred_str.append(label_to_char.get(entity.get('entity_group')))\n",
    "\n",
    "            if pred_str[-1] !='-':\n",
    "                pred_str.append(' ')\n",
    "\n",
    "\n",
    "    if 'UP' in next_entity.get('entity_group'):\n",
    "        pred_str.append(next_entity.get('word').capitalize())\n",
    "    else:\n",
    "        pred_str.append(next_entity.get('word'))\n",
    "    if next_entity.get('entity_group') in label_to_char.keys():\n",
    "        pred_str.append(label_to_char.get(next_entity.get('entity_group')))\n",
    "\n",
    "    return ''.join(pred_str)"
   ],
   "metadata": {
    "collapsed": false
   }
  },
  {
   "cell_type": "code",
   "execution_count": 74,
   "outputs": [],
   "source": [
    "MODEL_CP = \"D:/00_DATA/02_ELTE/MODELS/hupunct-v02f-01/checkpoint-371200_final\""
   ],
   "metadata": {
    "collapsed": false
   }
  },
  {
   "cell_type": "code",
   "execution_count": 75,
   "outputs": [],
   "source": [
    "token_classifier = pipeline(\n",
    "    \"token-classification\", model=MODEL_CP, aggregation_strategy=\"first\", ignore_labels=[]\n",
    ")"
   ],
   "metadata": {
    "collapsed": false
   }
  },
  {
   "cell_type": "code",
   "execution_count": 76,
   "outputs": [
    {
     "data": {
      "text/plain": "BertConfig {\n  \"_name_or_path\": \"D:/00_DATA/02_ELTE/MODELS/hupunct-v02f-01/checkpoint-371200_final\",\n  \"architectures\": [\n    \"BertForTokenClassification\"\n  ],\n  \"attention_probs_dropout_prob\": 0.1,\n  \"classifier_dropout\": null,\n  \"gradient_checkpointing\": false,\n  \"hidden_act\": \"gelu\",\n  \"hidden_dropout_prob\": 0.1,\n  \"hidden_size\": 768,\n  \"id2label\": {\n    \"0\": \"O\",\n    \"1\": \"B-COMMA\",\n    \"2\": \"B-DOT\",\n    \"3\": \"B-EXCLAM\",\n    \"4\": \"B-QUES\",\n    \"5\": \"B-HYPHEN\",\n    \"6\": \"B-COLON\",\n    \"7\": \"B-UPPER\",\n    \"8\": \"B-UPCOMMA\",\n    \"9\": \"B-UPDOT\",\n    \"10\": \"B-UPEXCLAM\",\n    \"11\": \"B-UPQUES\",\n    \"12\": \"B-UPHYPHEN\",\n    \"13\": \"B-UPCOLON\"\n  },\n  \"initializer_range\": 0.02,\n  \"intermediate_size\": 3072,\n  \"label2id\": {\n    \"B-COLON\": 6,\n    \"B-COMMA\": 1,\n    \"B-DOT\": 2,\n    \"B-EXCLAM\": 3,\n    \"B-HYPHEN\": 5,\n    \"B-QUES\": 4,\n    \"B-UPCOLON\": 13,\n    \"B-UPCOMMA\": 8,\n    \"B-UPDOT\": 9,\n    \"B-UPEXCLAM\": 10,\n    \"B-UPHYPHEN\": 12,\n    \"B-UPPER\": 7,\n    \"B-UPQUES\": 11,\n    \"O\": 0\n  },\n  \"layer_norm_eps\": 1e-12,\n  \"max_position_embeddings\": 512,\n  \"model_type\": \"bert\",\n  \"num_attention_heads\": 12,\n  \"num_hidden_layers\": 12,\n  \"pad_token_id\": 0,\n  \"position_embedding_type\": \"absolute\",\n  \"torch_dtype\": \"float32\",\n  \"transformers_version\": \"4.28.0\",\n  \"type_vocab_size\": 2,\n  \"use_cache\": true,\n  \"vocab_size\": 32001\n}"
     },
     "execution_count": 76,
     "metadata": {},
     "output_type": "execute_result"
    }
   ],
   "source": [
    "token_classifier.model.config"
   ],
   "metadata": {
    "collapsed": false
   }
  },
  {
   "cell_type": "code",
   "execution_count": 150,
   "outputs": [],
   "source": [
    "# text = 'egyszer elmentem halat venni a piacra de nem volt nálam kosár ennek ellenére tudván hogy nem fogok olyan sok halat venni nem fordultam vissza a piacon sok ember volt de nem félek az emberektől így ez nem állított meg 2021 ben még nem mertem volna ilyen sok ember közé menni a járvány miatt miért jöttek most mégis el ezt kérdeztem magamtól aztán tovább sétáltam majd találkoztam péterrel péter nagyon kedves volt péter a szegedi színművészeti egyetemen színész rendező'\n",
    "\n",
    "# text = 'itt rajtunk csakis orbán viktor segíthet aki magyarország miniszterelnöke 2010 óta hatalmon van és kedveli a balatoni tájakat'\n",
    "\n",
    "#text = 'gerendai páltól a következőt idézzük gyermekkorom óta szeretem a balatont a balatoni tájak mindig is lenyűgöztek és néha néha mikor a balaton partján sétálok szívemet elönti a szeretet hogyan lehet valami ilyen szép a következő vendégünk hambuch kevin a balatonfenyvesi egyetem doktora a knorr bremse kutatás fejlesztésért felelős vezetője kevin ilyen olyan projektekben vett részt a mta val közösen majd 1999 ben alapítottak barátjával csisztapusztai arnolddal egy céget megpedíg a gránit kft t ezután kezdte meg tevékenységét a német cégnél ahol a gránit kft ben szerzett tapasztalatát kamatoztatja'\n",
    "\n",
    "text = 'egy ilyen nagyon névleges összegért kellene viszonylag értékesebb átválogatott könyveket az emberek kezébe adni ugye az olvasási programnak az lenne a lényege hogy egyrészt a fiatalok kezébe könyvet adjunk mert ugye ebben az online világban akkor úgy látszott 2014 ben kezd elmenni egy kicsit ez a hangoskönyvet könyvek irányába a dolog és ez nagyon sajnáltuk volna most azt kell már hogy mondjam nem egészen így van tehát a könyvnek mindig megvan a maga varázsa megvan az illata kézbe lehet fogni magamon látom ha sokat olvasom a számítógéppel megjelenített leveleket és a telefont okoseszközöket az ember szeme elfárad már estére'"
   ],
   "metadata": {
    "collapsed": false
   }
  },
  {
   "cell_type": "code",
   "execution_count": 151,
   "outputs": [],
   "source": [
    "preds = token_classifier(text)"
   ],
   "metadata": {
    "collapsed": false
   }
  },
  {
   "cell_type": "code",
   "execution_count": 152,
   "outputs": [
    {
     "data": {
      "text/plain": "[{'entity_group': 'UPPER',\n  'score': 0.9905093,\n  'word': 'egy',\n  'start': 0,\n  'end': 3},\n {'entity_group': 'O',\n  'score': 0.9720654,\n  'word': 'ilyen nagyon névleges összegért kellene viszonylag',\n  'start': 4,\n  'end': 54},\n {'entity_group': 'COMMA',\n  'score': 0.92730135,\n  'word': 'értékesebb',\n  'start': 55,\n  'end': 65},\n {'entity_group': 'O',\n  'score': 0.9970708,\n  'word': 'átválogatott könyveket az emberek kezébe',\n  'start': 66,\n  'end': 106},\n {'entity_group': 'DOT',\n  'score': 0.8162049,\n  'word': 'adni',\n  'start': 107,\n  'end': 111},\n {'entity_group': 'UPPER',\n  'score': 0.78861886,\n  'word': 'ugye',\n  'start': 112,\n  'end': 116},\n {'entity_group': 'O',\n  'score': 0.980597,\n  'word': 'az olvasási programnak az lenne a',\n  'start': 117,\n  'end': 150},\n {'entity_group': 'COMMA',\n  'score': 0.9975904,\n  'word': 'lényege',\n  'start': 151,\n  'end': 158},\n {'entity_group': 'O',\n  'score': 0.9961551,\n  'word': 'hogy egyrészt a fiatalok kezébe könyvet',\n  'start': 159,\n  'end': 198},\n {'entity_group': 'DOT',\n  'score': 0.5101871,\n  'word': 'adjunk',\n  'start': 199,\n  'end': 205},\n {'entity_group': 'UPPER',\n  'score': 0.498511,\n  'word': 'mert',\n  'start': 206,\n  'end': 210},\n {'entity_group': 'O',\n  'score': 0.9028164,\n  'word': 'ugye ebben az online világban akkor úgy',\n  'start': 211,\n  'end': 250},\n {'entity_group': 'COMMA',\n  'score': 0.6972428,\n  'word': 'látszott',\n  'start': 251,\n  'end': 259},\n {'entity_group': 'HYPHEN',\n  'score': 0.9992636,\n  'word': '2014',\n  'start': 260,\n  'end': 264},\n {'entity_group': 'O',\n  'score': 0.96525025,\n  'word': 'ben kezd elmenni egy kicsit ez a hangoskönyvet könyvek irányába a',\n  'start': 265,\n  'end': 330},\n {'entity_group': 'COMMA',\n  'score': 0.7322644,\n  'word': 'dolog',\n  'start': 331,\n  'end': 336},\n {'entity_group': 'O',\n  'score': 0.95367444,\n  'word': 'és ez nagyon sajnáltuk',\n  'start': 337,\n  'end': 359},\n {'entity_group': 'DOT',\n  'score': 0.86631876,\n  'word': 'volna',\n  'start': 360,\n  'end': 365},\n {'entity_group': 'UPPER',\n  'score': 0.84159994,\n  'word': 'most',\n  'start': 366,\n  'end': 370},\n {'entity_group': 'O',\n  'score': 0.9823818,\n  'word': 'azt kell',\n  'start': 371,\n  'end': 379},\n {'entity_group': 'COMMA',\n  'score': 0.8041209,\n  'word': 'már',\n  'start': 380,\n  'end': 383},\n {'entity_group': 'O',\n  'score': 0.99937004,\n  'word': 'hogy',\n  'start': 384,\n  'end': 388},\n {'entity_group': 'COMMA',\n  'score': 0.8244742,\n  'word': 'mondjam',\n  'start': 389,\n  'end': 396},\n {'entity_group': 'O',\n  'score': 0.99764514,\n  'word': 'nem egészen így',\n  'start': 397,\n  'end': 412},\n {'entity_group': 'DOT',\n  'score': 0.9063347,\n  'word': 'van',\n  'start': 413,\n  'end': 416},\n {'entity_group': 'UPPER',\n  'score': 0.8751461,\n  'word': 'tehát',\n  'start': 417,\n  'end': 422},\n {'entity_group': 'O',\n  'score': 0.9970477,\n  'word': 'a könyvnek mindig megvan a maga',\n  'start': 423,\n  'end': 454},\n {'entity_group': 'COMMA',\n  'score': 0.88186955,\n  'word': 'varázsa',\n  'start': 455,\n  'end': 462},\n {'entity_group': 'O',\n  'score': 0.9534044,\n  'word': 'megvan az',\n  'start': 463,\n  'end': 472},\n {'entity_group': 'COMMA',\n  'score': 0.8498268,\n  'word': 'illata',\n  'start': 473,\n  'end': 479},\n {'entity_group': 'O',\n  'score': 0.9255005,\n  'word': 'kézbe lehet',\n  'start': 480,\n  'end': 491},\n {'entity_group': 'DOT',\n  'score': 0.50727427,\n  'word': 'fogni',\n  'start': 492,\n  'end': 497},\n {'entity_group': 'UPPER',\n  'score': 0.5435494,\n  'word': 'magamon',\n  'start': 498,\n  'end': 505},\n {'entity_group': 'COMMA',\n  'score': 0.8775457,\n  'word': 'látom',\n  'start': 506,\n  'end': 511},\n {'entity_group': 'O',\n  'score': 0.9725813,\n  'word': 'ha sokat olvasom a számítógéppel megjelenített leveleket és a',\n  'start': 512,\n  'end': 573},\n {'entity_group': 'COMMA',\n  'score': 0.99044865,\n  'word': 'telefont',\n  'start': 574,\n  'end': 582},\n {'entity_group': 'COMMA',\n  'score': 0.74512875,\n  'word': 'okoseszközöket',\n  'start': 583,\n  'end': 597},\n {'entity_group': 'O',\n  'score': 0.953714,\n  'word': 'az ember szeme elfárad már',\n  'start': 598,\n  'end': 624},\n {'entity_group': 'DOT',\n  'score': 0.8865449,\n  'word': 'estére',\n  'start': 625,\n  'end': 631}]"
     },
     "execution_count": 152,
     "metadata": {},
     "output_type": "execute_result"
    }
   ],
   "source": [
    "preds"
   ],
   "metadata": {
    "collapsed": false
   }
  },
  {
   "cell_type": "code",
   "execution_count": 153,
   "outputs": [],
   "source": [
    "\n"
   ],
   "metadata": {
    "collapsed": false
   }
  },
  {
   "cell_type": "code",
   "execution_count": 154,
   "outputs": [],
   "source": [
    "preds_string = preds_to_string(preds)"
   ],
   "metadata": {
    "collapsed": false
   }
  },
  {
   "cell_type": "code",
   "execution_count": 155,
   "outputs": [
    {
     "data": {
      "text/plain": "'egy ilyen nagyon névleges összegért kellene viszonylag értékesebb átválogatott könyveket az emberek kezébe adni ugye az olvasási programnak az lenne a lényege hogy egyrészt a fiatalok kezébe könyvet adjunk mert ugye ebben az online világban akkor úgy látszott 2014 ben kezd elmenni egy kicsit ez a hangoskönyvet könyvek irányába a dolog és ez nagyon sajnáltuk volna most azt kell már hogy mondjam nem egészen így van tehát a könyvnek mindig megvan a maga varázsa megvan az illata kézbe lehet fogni magamon látom ha sokat olvasom a számítógéppel megjelenített leveleket és a telefont okoseszközöket az ember szeme elfárad már estére'"
     },
     "execution_count": 155,
     "metadata": {},
     "output_type": "execute_result"
    }
   ],
   "source": [
    "text"
   ],
   "metadata": {
    "collapsed": false
   }
  },
  {
   "cell_type": "code",
   "execution_count": 156,
   "outputs": [
    {
     "data": {
      "text/plain": "'Egy ilyen nagyon névleges összegért kellene viszonylag értékesebb, átválogatott könyveket az emberek kezébe adni. Ugye az olvasási programnak az lenne a lényege, hogy egyrészt a fiatalok kezébe könyvet adjunk. Mert ugye ebben az online világban akkor úgy látszott, 2014-ben kezd elmenni egy kicsit ez a hangoskönyvet könyvek irányába a dolog, és ez nagyon sajnáltuk volna. Most azt kell már, hogy mondjam, nem egészen így van. Tehát a könyvnek mindig megvan a maga varázsa, megvan az illata, kézbe lehet fogni. Magamon látom, ha sokat olvasom a számítógéppel megjelenített leveleket és a telefont, okoseszközöket, az ember szeme elfárad már estére.'"
     },
     "execution_count": 156,
     "metadata": {},
     "output_type": "execute_result"
    }
   ],
   "source": [
    "preds_string"
   ],
   "metadata": {
    "collapsed": false
   }
  },
  {
   "cell_type": "code",
   "execution_count": 122,
   "outputs": [],
   "source": [],
   "metadata": {
    "collapsed": false
   }
  },
  {
   "cell_type": "code",
   "execution_count": 57,
   "outputs": [],
   "source": [],
   "metadata": {
    "collapsed": false
   }
  }
 ],
 "metadata": {
  "kernelspec": {
   "display_name": "Python 3",
   "language": "python",
   "name": "python3"
  },
  "language_info": {
   "codemirror_mode": {
    "name": "ipython",
    "version": 2
   },
   "file_extension": ".py",
   "mimetype": "text/x-python",
   "name": "python",
   "nbconvert_exporter": "python",
   "pygments_lexer": "ipython2",
   "version": "2.7.6"
  }
 },
 "nbformat": 4,
 "nbformat_minor": 0
}
