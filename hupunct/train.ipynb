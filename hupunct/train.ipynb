{
 "cells": [
  {
   "cell_type": "code",
   "execution_count": 1,
   "metadata": {},
   "outputs": [
    {
     "name": "stderr",
     "output_type": "stream",
     "text": [
      "C:\\KBData\\01_PROJECT\\00_GIT\\ELTE\\ELTE_AI\\final_project\\03_preprocess\\functions.py:28: FutureWarning: load_metric is deprecated and will be removed in the next major version of datasets. Use 'evaluate.load' instead, from the new library 🤗 Evaluate: https://huggingface.co/docs/evaluate\n",
      "  metric = load_metric(\"seqeval\")\n"
     ]
    }
   ],
   "source": [
    "from functions import *"
   ]
  },
  {
   "cell_type": "code",
   "execution_count": 2,
   "metadata": {},
   "outputs": [],
   "source": [
    "NUM_EP = 2\n",
    "LR = 2e-5\n",
    "WEIGHT_DECAY = .01\n",
    "BATCH_SIZE=8\n",
    "GRAD_ACCUM=1"
   ]
  },
  {
   "cell_type": "code",
   "execution_count": 3,
   "metadata": {},
   "outputs": [],
   "source": [
    "LR_SCHEDULE = 'cosine'\n",
    "LR_WARMUP_STEPS = 1000"
   ]
  },
  {
   "cell_type": "code",
   "execution_count": 4,
   "metadata": {},
   "outputs": [],
   "source": [
    "MODEL_CP = \"../02_dependencies/hubert-base-cc\"\n",
    "MODEL_NAME = \"hupunct-v02f-01\""
   ]
  },
  {
   "cell_type": "code",
   "execution_count": 5,
   "metadata": {
    "scrolled": true
   },
   "outputs": [],
   "source": [
    "train_text_file_path = '../data/dataset_v2/train_data.txt'\n",
    "fp_train = open(train_text_file_path, 'r', encoding='utf-8')\n",
    "fp_eval = open(train_text_file_path.replace('train', 'eval'), 'r', encoding='utf-8')"
   ]
  },
  {
   "cell_type": "code",
   "execution_count": 6,
   "metadata": {},
   "outputs": [],
   "source": [
    "bert_max_tokens = 512"
   ]
  },
  {
   "cell_type": "code",
   "execution_count": 7,
   "metadata": {},
   "outputs": [],
   "source": [
    "tokenizer = AutoTokenizer.from_pretrained(MODEL_CP, model_max_len=bert_max_tokens)"
   ]
  },
  {
   "cell_type": "code",
   "execution_count": 8,
   "metadata": {},
   "outputs": [
    {
     "name": "stderr",
     "output_type": "stream",
     "text": [
      "Found cached dataset generator (C:/Users/ext-gyenist/.cache/huggingface/datasets/generator/default-1adf31276521924c/0.0.0)\n",
      "Loading cached processed dataset at C:\\Users\\ext-gyenist\\.cache\\huggingface\\datasets\\generator\\default-1adf31276521924c\\0.0.0\\cache-33a04c6e17beb13f.arrow\n"
     ]
    }
   ],
   "source": [
    "ds_train = Dataset.from_generator(token_label_generator,\n",
    "                                  gen_kwargs={'file_pointer': fp_train, 'mappings': mappings})\n",
    "\n",
    "# ds_train_sequenced = ds_train.map(sequence_example,\n",
    "#                                   batched=True,\n",
    "#                                   remove_columns=ds_train.column_names,\n",
    "#                                   load_from_cache_file=True,\n",
    "#                                   fn_kwargs={'increment': INCREMENT, 'sequence_length': SEQUENCE_LENGTH}\n",
    "#                                   )\n",
    "\n",
    "ds_train = ds_train.map(\n",
    "    tokenize_and_align_labels,\n",
    "    batched=True,\n",
    "    remove_columns=ds_train.column_names,\n",
    "    load_from_cache_file=True,\n",
    "    fn_kwargs={'tokenizer': tokenizer}\n",
    ")"
   ]
  },
  {
   "cell_type": "code",
   "execution_count": 9,
   "metadata": {},
   "outputs": [
    {
     "name": "stderr",
     "output_type": "stream",
     "text": [
      "Found cached dataset generator (C:/Users/ext-gyenist/.cache/huggingface/datasets/generator/default-cdf822eac05b784c/0.0.0)\n",
      "Loading cached processed dataset at C:\\Users\\ext-gyenist\\.cache\\huggingface\\datasets\\generator\\default-cdf822eac05b784c\\0.0.0\\cache-0d14521c213716ef.arrow\n"
     ]
    }
   ],
   "source": [
    "ds_eval = Dataset.from_generator(token_label_generator, gen_kwargs={'file_pointer': fp_eval, 'mappings': mappings})\n",
    "\n",
    "\n",
    "\n",
    "# ds_eval_sequenced = ds_eval.map(sequence_example,\n",
    "#                                 batched=True,\n",
    "#                                 remove_columns=ds_eval.column_names,\n",
    "#                                 load_from_cache_file=True,\n",
    "#                                 fn_kwargs={'increment': INCREMENT, 'sequence_length': SEQUENCE_LENGTH}\n",
    "#                                 )\n",
    "\n",
    "ds_eval = ds_eval.map(\n",
    "    tokenize_and_align_labels,\n",
    "    batched=True,\n",
    "    remove_columns=ds_eval.column_names,\n",
    "    load_from_cache_file=True,\n",
    "    fn_kwargs={'tokenizer': tokenizer}\n",
    ")"
   ]
  },
  {
   "cell_type": "code",
   "execution_count": 10,
   "metadata": {},
   "outputs": [],
   "source": [
    "data_collator = DataCollatorForTokenClassification(tokenizer=tokenizer,\n",
    "                                                   padding='max_length',\n",
    "                                                   max_length=bert_max_tokens,\n",
    "                                                   )"
   ]
  },
  {
   "cell_type": "code",
   "execution_count": 11,
   "metadata": {},
   "outputs": [
    {
     "name": "stderr",
     "output_type": "stream",
     "text": [
      "Some weights of the model checkpoint at ../02_dependencies/hubert-base-cc were not used when initializing BertForTokenClassification: ['cls.predictions.transform.LayerNorm.bias', 'cls.seq_relationship.bias', 'cls.seq_relationship.weight', 'cls.predictions.decoder.weight', 'cls.predictions.bias', 'cls.predictions.transform.LayerNorm.weight', 'cls.predictions.transform.dense.weight', 'cls.predictions.decoder.bias', 'cls.predictions.transform.dense.bias']\n",
      "- This IS expected if you are initializing BertForTokenClassification from the checkpoint of a model trained on another task or with another architecture (e.g. initializing a BertForSequenceClassification model from a BertForPreTraining model).\n",
      "- This IS NOT expected if you are initializing BertForTokenClassification from the checkpoint of a model that you expect to be exactly identical (initializing a BertForSequenceClassification model from a BertForSequenceClassification model).\n",
      "Some weights of BertForTokenClassification were not initialized from the model checkpoint at ../02_dependencies/hubert-base-cc and are newly initialized: ['classifier.weight', 'classifier.bias']\n",
      "You should probably TRAIN this model on a down-stream task to be able to use it for predictions and inference.\n"
     ]
    }
   ],
   "source": [
    "model = AutoModelForTokenClassification.from_pretrained(\n",
    "    MODEL_CP,\n",
    "    id2label=id2label,\n",
    "    label2id=label2id,\n",
    ")"
   ]
  },
  {
   "cell_type": "code",
   "execution_count": 12,
   "metadata": {},
   "outputs": [],
   "source": [
    "args = TrainingArguments(\n",
    "    report_to=['wandb'],\n",
    "    output_dir=f'D:/00_DATA/02_ELTE/MODELS/{MODEL_NAME}',\n",
    "    run_name=MODEL_NAME,\n",
    "    logging_strategy='steps',\n",
    "    evaluation_strategy=\"steps\",\n",
    "    save_strategy=\"steps\",\n",
    "    logging_steps=400//GRAD_ACCUM,\n",
    "    eval_steps=1600//GRAD_ACCUM,\n",
    "    save_steps=1600//GRAD_ACCUM,\n",
    "    load_best_model_at_end=True,\n",
    "    save_total_limit=5,\n",
    "    metric_for_best_model='f1',\n",
    "\n",
    "    lr_scheduler_type=LR_SCHEDULE,\n",
    "    warmup_steps=LR_WARMUP_STEPS,\n",
    "    per_device_train_batch_size=BATCH_SIZE,\n",
    "    per_device_eval_batch_size=BATCH_SIZE,\n",
    "    gradient_accumulation_steps=GRAD_ACCUM,\n",
    "    eval_accumulation_steps=GRAD_ACCUM,\n",
    "    learning_rate=LR,\n",
    "\n",
    "    weight_decay=WEIGHT_DECAY,\n",
    "    num_train_epochs=NUM_EP,\n",
    ")"
   ]
  },
  {
   "cell_type": "code",
   "execution_count": 13,
   "metadata": {},
   "outputs": [],
   "source": [
    "trainer = Trainer(\n",
    "    model=model,\n",
    "    args=args,\n",
    "    train_dataset=ds_train,\n",
    "    eval_dataset=ds_eval,\n",
    "    data_collator=data_collator,\n",
    "    compute_metrics=compute_metrics,\n",
    "    tokenizer=tokenizer,\n",
    ")"
   ]
  },
  {
   "cell_type": "code",
   "execution_count": 14,
   "metadata": {
    "scrolled": true
   },
   "outputs": [
    {
     "name": "stderr",
     "output_type": "stream",
     "text": [
      "C:\\KBApps\\conda\\envs\\torch2\\Lib\\site-packages\\transformers\\optimization.py:391: FutureWarning: This implementation of AdamW is deprecated and will be removed in a future version. Use the PyTorch implementation torch.optim.AdamW instead, or set `no_deprecation_warning=True` to disable this warning\n",
      "  warnings.warn(\n",
      "\u001B[34m\u001B[1mwandb\u001B[0m: Currently logged in as: \u001B[33mtamgyen\u001B[0m. Use \u001B[1m`wandb login --relogin`\u001B[0m to force relogin\n"
     ]
    },
    {
     "data": {
      "text/html": [
       "wandb version 0.15.3 is available!  To upgrade, please run:\n",
       " $ pip install wandb --upgrade"
      ],
      "text/plain": [
       "<IPython.core.display.HTML object>"
      ]
     },
     "metadata": {},
     "output_type": "display_data"
    },
    {
     "data": {
      "text/html": [
       "Tracking run with wandb version 0.15.2"
      ],
      "text/plain": [
       "<IPython.core.display.HTML object>"
      ]
     },
     "metadata": {},
     "output_type": "display_data"
    },
    {
     "data": {
      "text/html": [
       "Run data is saved locally in <code>C:\\KBData\\01_PROJECT\\00_GIT\\ELTE\\ELTE_AI\\final_project\\03_preprocess\\wandb\\run-20230603_163808-tk1n41ly</code>"
      ],
      "text/plain": [
       "<IPython.core.display.HTML object>"
      ]
     },
     "metadata": {},
     "output_type": "display_data"
    },
    {
     "data": {
      "text/html": [
       "Syncing run <strong><a href='https://wandb.ai/tamgyen/huggingface/runs/tk1n41ly' target=\"_blank\">hupunct-v02f-01</a></strong> to <a href='https://wandb.ai/tamgyen/huggingface' target=\"_blank\">Weights & Biases</a> (<a href='https://wandb.me/run' target=\"_blank\">docs</a>)<br/>"
      ],
      "text/plain": [
       "<IPython.core.display.HTML object>"
      ]
     },
     "metadata": {},
     "output_type": "display_data"
    },
    {
     "data": {
      "text/html": [
       " View project at <a href='https://wandb.ai/tamgyen/huggingface' target=\"_blank\">https://wandb.ai/tamgyen/huggingface</a>"
      ],
      "text/plain": [
       "<IPython.core.display.HTML object>"
      ]
     },
     "metadata": {},
     "output_type": "display_data"
    },
    {
     "data": {
      "text/html": [
       " View run at <a href='https://wandb.ai/tamgyen/huggingface/runs/tk1n41ly' target=\"_blank\">https://wandb.ai/tamgyen/huggingface/runs/tk1n41ly</a>"
      ],
      "text/plain": [
       "<IPython.core.display.HTML object>"
      ]
     },
     "metadata": {},
     "output_type": "display_data"
    },
    {
     "name": "stderr",
     "output_type": "stream",
     "text": [
      "You're using a BertTokenizerFast tokenizer. Please note that with a fast tokenizer, using the `__call__` method is faster than using a method to encode the text followed by a call to the `pad` method to get a padded encoding.\n"
     ]
    },
    {
     "data": {
      "text/html": [
       "\n",
       "    <div>\n",
       "      \n",
       "      <progress value='257077' max='836196' style='width:300px; height:20px; vertical-align: middle;'></progress>\n",
       "      [257077/836196 1:26:55 < 112:14:31, 1.43 it/s, Epoch 0.61/2]\n",
       "    </div>\n",
       "    <table border=\"1\" class=\"dataframe\">\n",
       "  <thead>\n",
       " <tr style=\"text-align: left;\">\n",
       "      <th>Step</th>\n",
       "      <th>Training Loss</th>\n",
       "      <th>Validation Loss</th>\n",
       "      <th>Precision</th>\n",
       "      <th>Recall</th>\n",
       "      <th>F1</th>\n",
       "      <th>Accuracy</th>\n",
       "    </tr>\n",
       "  </thead>\n",
       "  <tbody>\n",
       "    <tr>\n",
       "      <td>251200</td>\n",
       "      <td>0.185300</td>\n",
       "      <td>0.176291</td>\n",
       "      <td>0.873013</td>\n",
       "      <td>0.864088</td>\n",
       "      <td>0.868528</td>\n",
       "      <td>0.938277</td>\n",
       "    </tr>\n",
       "    <tr>\n",
       "      <td>252800</td>\n",
       "      <td>0.188500</td>\n",
       "      <td>0.176897</td>\n",
       "      <td>0.874267</td>\n",
       "      <td>0.861638</td>\n",
       "      <td>0.867906</td>\n",
       "      <td>0.938032</td>\n",
       "    </tr>\n",
       "    <tr>\n",
       "      <td>254400</td>\n",
       "      <td>0.186700</td>\n",
       "      <td>0.176779</td>\n",
       "      <td>0.870136</td>\n",
       "      <td>0.866569</td>\n",
       "      <td>0.868349</td>\n",
       "      <td>0.938133</td>\n",
       "    </tr>\n",
       "    <tr>\n",
       "      <td>256000</td>\n",
       "      <td>0.185900</td>\n",
       "      <td>0.177216</td>\n",
       "      <td>0.873357</td>\n",
       "      <td>0.863880</td>\n",
       "      <td>0.868593</td>\n",
       "      <td>0.938379</td>\n",
       "    </tr>\n",
       "  </tbody>\n",
       "</table><p>"
      ],
      "text/plain": [
       "<IPython.core.display.HTML object>"
      ]
     },
     "metadata": {},
     "output_type": "display_data"
    }
   ],
   "source": [
    "trainer.train(resume_from_checkpoint=True)\n",
    "\n",
    "trainer.save_model(f\"../04_models/{MODEL_NAME}\")"
   ]
  },
  {
   "cell_type": "code",
   "execution_count": null,
   "metadata": {},
   "outputs": [],
   "source": [
    "# steps = 1130 eta: 6:40"
   ]
  },
  {
   "cell_type": "code",
   "execution_count": null,
   "metadata": {},
   "outputs": [],
   "source": [
    "# 836196"
   ]
  }
 ],
 "metadata": {
  "kernelspec": {
   "display_name": "Python 3 (ipykernel)",
   "language": "python",
   "name": "python3"
  },
  "language_info": {
   "codemirror_mode": {
    "name": "ipython",
    "version": 3
   },
   "file_extension": ".py",
   "mimetype": "text/x-python",
   "name": "python",
   "nbconvert_exporter": "python",
   "pygments_lexer": "ipython3",
   "version": "3.11.3"
  }
 },
 "nbformat": 4,
 "nbformat_minor": 1
}
